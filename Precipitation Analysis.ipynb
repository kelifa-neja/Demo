{
    "cells": [
        {
            "cell_type": "code",
            "execution_count": 2,
            "metadata": {},
            "outputs": [
                {
                    "name": "stdout",
                    "output_type": "stream",
                    "text": "+-----+----------+----+----+----+----+----+----+----+\n| ITEM|    AMOUNT| _c2| _c3| _c4| _c5| _c6| _c7| _c8|\n+-----+----------+----+----+----+----+----+----+----+\n|$100 |$2,200.00 |null|null|null|null|null|null|null|\n|$100 |$2,200.00 |null|null|null|null|null|null|null|\n|$100 |$2,200.00 |null|null|null|null|null|null|null|\n|$100 |$2,200.00 |null|null|null|null|null|null|null|\n|$100 |$2,200.00 |null|null|null|null|null|null|null|\n+-----+----------+----+----+----+----+----+----+----+\nonly showing top 5 rows\n\n"
                },
                {
                    "data": {
                        "text/plain": "configurationName = os_e7479db51a63482e9d12f61681d49040_configs\ncos = com.ibm.ibmos2spark.CloudObjectStorage@9a413fcd\nspark = org.apache.spark.sql.SparkSession@b406e0b4\ndfData1 = [ITEM: string, AMOUNT: string ... 7 more fields]\n"
                    },
                    "metadata": {},
                    "output_type": "display_data"
                },
                {
                    "data": {
                        "text/plain": "getCredentials: ()scala.collection.mutable.HashMap[String,String]\n"
                    },
                    "metadata": {},
                    "output_type": "display_data"
                },
                {
                    "data": {
                        "text/plain": "[ITEM: string, AMOUNT: string ... 7 more fields]"
                    },
                    "execution_count": 2,
                    "metadata": {},
                    "output_type": "execute_result"
                }
            ],
            "source": "// The code was removed by Watson Studio for sharing."
        },
        {
            "cell_type": "code",
            "execution_count": null,
            "metadata": {},
            "outputs": [],
            "source": ""
        }
    ],
    "metadata": {
        "kernelspec": {
            "display_name": "Scala 2.11 with Spark",
            "language": "scala",
            "name": "scala"
        },
        "language_info": {
            "codemirror_mode": "text/x-scala",
            "file_extension": ".scala",
            "mimetype": "text/x-scala",
            "name": "scala",
            "pygments_lexer": "scala",
            "version": "2.11.12"
        }
    },
    "nbformat": 4,
    "nbformat_minor": 1
}